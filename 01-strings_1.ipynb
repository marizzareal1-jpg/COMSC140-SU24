{
  "cells": [
    {
      "cell_type": "markdown",
      "metadata": {
        "id": "view-in-github",
        "colab_type": "text"
      },
      "source": [
        "<a href=\"https://colab.research.google.com/github/marizzareal1-jpg/COMSC140-SU24/blob/main/01-strings_1.ipynb\" target=\"_parent\"><img src=\"https://colab.research.google.com/assets/colab-badge.svg\" alt=\"Open In Colab\"/></a>"
      ]
    },
    {
      "cell_type": "markdown",
      "id": "06c205c1",
      "metadata": {
        "id": "06c205c1"
      },
      "source": [
        "# Strings"
      ]
    },
    {
      "cell_type": "markdown",
      "id": "e0d3aa0b",
      "metadata": {
        "id": "e0d3aa0b"
      },
      "source": [
        "### Basics"
      ]
    },
    {
      "cell_type": "code",
      "execution_count": 1,
      "id": "23e42c11",
      "metadata": {
        "colab": {
          "base_uri": "https://localhost:8080/",
          "height": 35
        },
        "id": "23e42c11",
        "outputId": "b3adb62e-df18-4aec-9ae6-7439b47c00f2"
      },
      "outputs": [
        {
          "output_type": "execute_result",
          "data": {
            "text/plain": [
              "'this is a string that is also a sentence'"
            ],
            "application/vnd.google.colaboratory.intrinsic+json": {
              "type": "string"
            }
          },
          "metadata": {},
          "execution_count": 1
        }
      ],
      "source": [
        "\"this is a string that is also a sentence\""
      ]
    },
    {
      "cell_type": "code",
      "execution_count": 2,
      "id": "261d484e",
      "metadata": {
        "colab": {
          "base_uri": "https://localhost:8080/",
          "height": 35
        },
        "id": "261d484e",
        "outputId": "0d9bd76a-96fd-4f3c-acde-291185e2900a"
      },
      "outputs": [
        {
          "output_type": "execute_result",
          "data": {
            "text/plain": [
              "'this'"
            ],
            "application/vnd.google.colaboratory.intrinsic+json": {
              "type": "string"
            }
          },
          "metadata": {},
          "execution_count": 2
        }
      ],
      "source": [
        "'this'"
      ]
    },
    {
      "cell_type": "code",
      "execution_count": 3,
      "id": "672389e3",
      "metadata": {
        "colab": {
          "base_uri": "https://localhost:8080/",
          "height": 35
        },
        "id": "672389e3",
        "outputId": "ca458c6f-4887-4646-f899-6bff89ae52b1"
      },
      "outputs": [
        {
          "output_type": "execute_result",
          "data": {
            "text/plain": [
              "'t'"
            ],
            "application/vnd.google.colaboratory.intrinsic+json": {
              "type": "string"
            }
          },
          "metadata": {},
          "execution_count": 3
        }
      ],
      "source": [
        "'t'"
      ]
    },
    {
      "cell_type": "code",
      "execution_count": 4,
      "id": "0c983215",
      "metadata": {
        "colab": {
          "base_uri": "https://localhost:8080/",
          "height": 35
        },
        "id": "0c983215",
        "outputId": "534cb173-5f76-4dab-c934-9d71de9620af"
      },
      "outputs": [
        {
          "output_type": "execute_result",
          "data": {
            "text/plain": [
              "'598798234792'"
            ],
            "application/vnd.google.colaboratory.intrinsic+json": {
              "type": "string"
            }
          },
          "metadata": {},
          "execution_count": 4
        }
      ],
      "source": [
        "'598798234792'"
      ]
    },
    {
      "cell_type": "code",
      "execution_count": 5,
      "id": "2f51e8fe",
      "metadata": {
        "colab": {
          "base_uri": "https://localhost:8080/",
          "height": 35
        },
        "id": "2f51e8fe",
        "outputId": "b5be9683-0145-4066-f0fc-e8b6cfa052a9"
      },
      "outputs": [
        {
          "output_type": "execute_result",
          "data": {
            "text/plain": [
              "'this is a string too '"
            ],
            "application/vnd.google.colaboratory.intrinsic+json": {
              "type": "string"
            }
          },
          "metadata": {},
          "execution_count": 5
        }
      ],
      "source": [
        "'this is a string too '"
      ]
    },
    {
      "cell_type": "code",
      "execution_count": 6,
      "id": "6ede7d68",
      "metadata": {
        "colab": {
          "base_uri": "https://localhost:8080/",
          "height": 35
        },
        "id": "6ede7d68",
        "outputId": "1352712c-65f9-48cf-97bc-e1fb87a1de40"
      },
      "outputs": [
        {
          "output_type": "execute_result",
          "data": {
            "text/plain": [
              "'\\nput \\nthings\\non \\nmultiple \\nlines\\n'"
            ],
            "application/vnd.google.colaboratory.intrinsic+json": {
              "type": "string"
            }
          },
          "metadata": {},
          "execution_count": 6
        }
      ],
      "source": [
        "\"\"\"\n",
        "put\n",
        "things\n",
        "on\n",
        "multiple\n",
        "lines\n",
        "\"\"\""
      ]
    },
    {
      "cell_type": "markdown",
      "id": "4919b581",
      "metadata": {
        "id": "4919b581"
      },
      "source": [
        "### `print`"
      ]
    },
    {
      "cell_type": "code",
      "execution_count": 7,
      "id": "c5dac2b9",
      "metadata": {
        "colab": {
          "base_uri": "https://localhost:8080/",
          "height": 35
        },
        "id": "c5dac2b9",
        "outputId": "8a406d18-391f-4320-dd15-58f420f61a34"
      },
      "outputs": [
        {
          "output_type": "execute_result",
          "data": {
            "text/plain": [
              "'string 3'"
            ],
            "application/vnd.google.colaboratory.intrinsic+json": {
              "type": "string"
            }
          },
          "metadata": {},
          "execution_count": 7
        }
      ],
      "source": [
        "'string 1'\n",
        "'string 2'\n",
        "'string 3'"
      ]
    },
    {
      "cell_type": "code",
      "execution_count": 8,
      "id": "2946f0e0",
      "metadata": {
        "colab": {
          "base_uri": "https://localhost:8080/"
        },
        "id": "2946f0e0",
        "outputId": "f4e93d79-7214-44d6-dd5c-592ad3f30261"
      },
      "outputs": [
        {
          "output_type": "stream",
          "name": "stdout",
          "text": [
            "string 1\n",
            "string 2\n",
            "string 3\n"
          ]
        }
      ],
      "source": [
        "print('string 1')\n",
        "print('string 2')\n",
        "print('string 3')"
      ]
    },
    {
      "cell_type": "markdown",
      "id": "c0198a7e",
      "metadata": {
        "id": "c0198a7e"
      },
      "source": [
        "### Variables"
      ]
    },
    {
      "cell_type": "code",
      "execution_count": 9,
      "id": "ac4b23cf",
      "metadata": {
        "id": "ac4b23cf"
      },
      "outputs": [],
      "source": [
        "word = \"Microphone\""
      ]
    },
    {
      "cell_type": "code",
      "execution_count": 10,
      "id": "d6620c3a",
      "metadata": {
        "id": "d6620c3a"
      },
      "outputs": [],
      "source": [
        "word = \"Camera\""
      ]
    },
    {
      "cell_type": "code",
      "execution_count": 11,
      "id": "6a4bcd48",
      "metadata": {
        "colab": {
          "base_uri": "https://localhost:8080/",
          "height": 35
        },
        "id": "6a4bcd48",
        "outputId": "301cd60b-8e07-476e-e078-bc0fc2a40ca4"
      },
      "outputs": [
        {
          "output_type": "execute_result",
          "data": {
            "text/plain": [
              "'Camera'"
            ],
            "application/vnd.google.colaboratory.intrinsic+json": {
              "type": "string"
            }
          },
          "metadata": {},
          "execution_count": 11
        }
      ],
      "source": [
        "word"
      ]
    },
    {
      "cell_type": "code",
      "execution_count": 12,
      "id": "ddeb51eb",
      "metadata": {
        "id": "ddeb51eb"
      },
      "outputs": [],
      "source": [
        "in_snake_case = \"this is another variable\""
      ]
    },
    {
      "cell_type": "code",
      "execution_count": 13,
      "id": "9bfc010e",
      "metadata": {
        "id": "9bfc010e"
      },
      "outputs": [],
      "source": [
        "camelCase = 'Do as the romans do... so don\\'t write camel case'"
      ]
    },
    {
      "cell_type": "markdown",
      "id": "438e30bf",
      "metadata": {
        "id": "438e30bf"
      },
      "source": [
        "### Interpolation"
      ]
    },
    {
      "cell_type": "code",
      "execution_count": 14,
      "id": "1bccb4a6",
      "metadata": {
        "id": "1bccb4a6"
      },
      "outputs": [],
      "source": [
        "word = \"Microphone\""
      ]
    },
    {
      "cell_type": "code",
      "execution_count": 15,
      "id": "cca00969",
      "metadata": {
        "colab": {
          "base_uri": "https://localhost:8080/",
          "height": 35
        },
        "id": "cca00969",
        "outputId": "b811ce9f-ecd2-45d7-d41f-31b8f60bc835"
      },
      "outputs": [
        {
          "output_type": "execute_result",
          "data": {
            "text/plain": [
              "'My word is: Microphone'"
            ],
            "application/vnd.google.colaboratory.intrinsic+json": {
              "type": "string"
            }
          },
          "metadata": {},
          "execution_count": 15
        }
      ],
      "source": [
        "f\"My word is: {word}\""
      ]
    },
    {
      "cell_type": "code",
      "execution_count": 16,
      "id": "adef6d40",
      "metadata": {
        "id": "adef6d40"
      },
      "outputs": [],
      "source": [
        "my_name = \"Max\""
      ]
    },
    {
      "cell_type": "code",
      "execution_count": 17,
      "id": "e8551755",
      "metadata": {
        "colab": {
          "base_uri": "https://localhost:8080/",
          "height": 35
        },
        "id": "e8551755",
        "outputId": "418ddd58-7bc6-4580-cd50-4a2c11ff3169"
      },
      "outputs": [
        {
          "output_type": "execute_result",
          "data": {
            "text/plain": [
              "'Hi my name is Max'"
            ],
            "application/vnd.google.colaboratory.intrinsic+json": {
              "type": "string"
            }
          },
          "metadata": {},
          "execution_count": 17
        }
      ],
      "source": [
        "f\"Hi my name is {my_name}\""
      ]
    },
    {
      "cell_type": "code",
      "execution_count": 18,
      "id": "0a1f7ebb",
      "metadata": {
        "colab": {
          "base_uri": "https://localhost:8080/",
          "height": 35
        },
        "id": "0a1f7ebb",
        "outputId": "849e7c07-010e-46b5-db2d-fea295561be1"
      },
      "outputs": [
        {
          "output_type": "execute_result",
          "data": {
            "text/plain": [
              "'Hi, my name is Max, my favourite colour is ⬛️, and I live in 🇨🇦'"
            ],
            "application/vnd.google.colaboratory.intrinsic+json": {
              "type": "string"
            }
          },
          "metadata": {},
          "execution_count": 18
        }
      ],
      "source": [
        "name = \"Max\"\n",
        "colour = \"⬛️\"\n",
        "country = \"🇨🇦\"\n",
        "\n",
        "f\"Hi, my name is {name}, my favourite colour is {colour}, and I live in {country}\""
      ]
    },
    {
      "cell_type": "markdown",
      "id": "5555b83a",
      "metadata": {
        "id": "5555b83a"
      },
      "source": [
        "### Challenge\n",
        "\n",
        "<div class='alert alert-info'>\n",
        "  🎒\n",
        "  Code a \"story\" about your name, age, and favourite TV show\n",
        "</div>\n",
        "<br/>\n",
        "<details>\n",
        "<summary><u>Solution</u></summary>\n",
        "    \n",
        "```python\n",
        "my_name = \"Maggie\"\n",
        "my_age = \"∞\"\n",
        "my_TV = \"The Afterparty\"\n",
        "print(f\"Hi, I'm {my_name}, I'm {my_age} years-old, and I love \\\"{my_TV}\\\".\")\n",
        "```\n",
        "    \n",
        "> Hi, I'm Maggie, I'm ∞ years-old, and I love \"The Afterparty\".\n",
        "    \n",
        "<div class='alert alert-warning'>\n",
        "  ❌✍️ Just don't do this...\n",
        "</div>\n",
        "   \n",
        "```python\n",
        "myName = \"pleaseDont\"\n",
        "myAge = \"thisIsCalledCamelCase\"\n",
        "myTV = \"python_uses_snake_case_99%_of_the_time\"\n",
        "```\n",
        "    \n",
        "</details>"
      ]
    },
    {
      "cell_type": "code",
      "execution_count": 19,
      "id": "c930248a",
      "metadata": {
        "colab": {
          "base_uri": "https://localhost:8080/"
        },
        "id": "c930248a",
        "outputId": "2ccc4655-6fac-4325-9613-d8532c08ba8e"
      },
      "outputs": [
        {
          "output_type": "stream",
          "name": "stdout",
          "text": [
            "Hi, I'm Maggie, I'm ∞ years-old, and I love \"The Afterparty\".\n"
          ]
        }
      ],
      "source": [
        "my_name = \"Maggie\"\n",
        "my_age = \"∞\"\n",
        "my_TV = \"The Afterparty\"\n",
        "print(f\"Hi, I'm {my_name}, I'm {my_age} years-old, and I love \\\"{my_TV}\\\".\")"
      ]
    },
    {
      "cell_type": "code",
      "source": [
        "name =\"marizza\"\n",
        "age = \"20\"\n",
        "my_music = \"Kali Uchis\"\n",
        "print((f\"Hello, Im {name}, Im {age} years old, My favorite music artists is {my_music}\"))"
      ],
      "metadata": {
        "colab": {
          "base_uri": "https://localhost:8080/"
        },
        "id": "gRdYoFnRKgSO",
        "outputId": "d06a5412-206e-49ce-adf3-c8a26d36e590"
      },
      "id": "gRdYoFnRKgSO",
      "execution_count": 29,
      "outputs": [
        {
          "output_type": "stream",
          "name": "stdout",
          "text": [
            "Hello, Im marizza, Im 20 years old, My favorite music artists is Kali Uchis\n"
          ]
        }
      ]
    },
    {
      "cell_type": "markdown",
      "id": "99839e84",
      "metadata": {
        "id": "99839e84"
      },
      "source": [
        "### String Methods"
      ]
    },
    {
      "cell_type": "code",
      "execution_count": 21,
      "id": "e9a9c84a",
      "metadata": {
        "colab": {
          "base_uri": "https://localhost:8080/"
        },
        "id": "e9a9c84a",
        "outputId": "fef0af54-995f-4ccd-a736-8dc18d29f874"
      },
      "outputs": [
        {
          "output_type": "execute_result",
          "data": {
            "text/plain": [
              "str"
            ]
          },
          "metadata": {},
          "execution_count": 21
        }
      ],
      "source": [
        "name\n",
        "type(name)"
      ]
    },
    {
      "cell_type": "code",
      "execution_count": 30,
      "id": "afac2c90",
      "metadata": {
        "colab": {
          "base_uri": "https://localhost:8080/"
        },
        "id": "afac2c90",
        "outputId": "8797df23-60d2-4b18-c1d5-aa81f8ad5a3c"
      },
      "outputs": [
        {
          "output_type": "execute_result",
          "data": {
            "text/plain": [
              "['__add__',\n",
              " '__class__',\n",
              " '__contains__',\n",
              " '__delattr__',\n",
              " '__dir__',\n",
              " '__doc__',\n",
              " '__eq__',\n",
              " '__format__',\n",
              " '__ge__',\n",
              " '__getattribute__',\n",
              " '__getitem__',\n",
              " '__getnewargs__',\n",
              " '__getstate__',\n",
              " '__gt__',\n",
              " '__hash__',\n",
              " '__init__',\n",
              " '__init_subclass__',\n",
              " '__iter__',\n",
              " '__le__',\n",
              " '__len__',\n",
              " '__lt__',\n",
              " '__mod__',\n",
              " '__mul__',\n",
              " '__ne__',\n",
              " '__new__',\n",
              " '__reduce__',\n",
              " '__reduce_ex__',\n",
              " '__repr__',\n",
              " '__rmod__',\n",
              " '__rmul__',\n",
              " '__setattr__',\n",
              " '__sizeof__',\n",
              " '__str__',\n",
              " '__subclasshook__',\n",
              " 'capitalize',\n",
              " 'casefold',\n",
              " 'center',\n",
              " 'count',\n",
              " 'encode',\n",
              " 'endswith',\n",
              " 'expandtabs',\n",
              " 'find',\n",
              " 'format',\n",
              " 'format_map',\n",
              " 'index',\n",
              " 'isalnum',\n",
              " 'isalpha',\n",
              " 'isascii',\n",
              " 'isdecimal',\n",
              " 'isdigit',\n",
              " 'isidentifier',\n",
              " 'islower',\n",
              " 'isnumeric',\n",
              " 'isprintable',\n",
              " 'isspace',\n",
              " 'istitle',\n",
              " 'isupper',\n",
              " 'join',\n",
              " 'ljust',\n",
              " 'lower',\n",
              " 'lstrip',\n",
              " 'maketrans',\n",
              " 'partition',\n",
              " 'removeprefix',\n",
              " 'removesuffix',\n",
              " 'replace',\n",
              " 'rfind',\n",
              " 'rindex',\n",
              " 'rjust',\n",
              " 'rpartition',\n",
              " 'rsplit',\n",
              " 'rstrip',\n",
              " 'split',\n",
              " 'splitlines',\n",
              " 'startswith',\n",
              " 'strip',\n",
              " 'swapcase',\n",
              " 'title',\n",
              " 'translate',\n",
              " 'upper',\n",
              " 'zfill']"
            ]
          },
          "metadata": {},
          "execution_count": 30
        }
      ],
      "source": [
        "dir(name)"
      ]
    },
    {
      "cell_type": "markdown",
      "id": "1b7d13e9",
      "metadata": {
        "id": "1b7d13e9"
      },
      "source": [
        "<div class='alert alert-success'>\n",
        "  🔬🧵 Don't get overwhelmed, just look at a couple\n",
        "</div>"
      ]
    },
    {
      "cell_type": "markdown",
      "id": "d031efdf",
      "metadata": {
        "id": "d031efdf"
      },
      "source": [
        "- `.upper`\n",
        "- `.lower`\n",
        "- `.strip`\n",
        "- `.endswith`\n",
        "- `.startswith`"
      ]
    },
    {
      "cell_type": "code",
      "execution_count": 31,
      "id": "dec098a5",
      "metadata": {
        "colab": {
          "base_uri": "https://localhost:8080/",
          "height": 35
        },
        "id": "dec098a5",
        "outputId": "c8557f4d-c426-4abf-c223-d969ce36d364"
      },
      "outputs": [
        {
          "output_type": "execute_result",
          "data": {
            "text/plain": [
              "'Max Humber'"
            ],
            "application/vnd.google.colaboratory.intrinsic+json": {
              "type": "string"
            }
          },
          "metadata": {},
          "execution_count": 31
        }
      ],
      "source": [
        "full_name = \"max humber\"\n",
        "full_name.title()"
      ]
    },
    {
      "cell_type": "code",
      "execution_count": 32,
      "id": "1a46de84",
      "metadata": {
        "colab": {
          "base_uri": "https://localhost:8080/",
          "height": 35
        },
        "id": "1a46de84",
        "outputId": "8c8b012e-9e40-4f8b-c0c2-2f0bb228dd72"
      },
      "outputs": [
        {
          "output_type": "execute_result",
          "data": {
            "text/plain": [
              "'salkjhk;djhflkawehflksdhflfkjds'"
            ],
            "application/vnd.google.colaboratory.intrinsic+json": {
              "type": "string"
            }
          },
          "metadata": {},
          "execution_count": 32
        }
      ],
      "source": [
        "\"SALKJHK;DJHFLKAWEHFLKSDHFLFKJDS\".lower()"
      ]
    },
    {
      "cell_type": "code",
      "execution_count": 33,
      "id": "c3407dfb",
      "metadata": {
        "colab": {
          "base_uri": "https://localhost:8080/",
          "height": 35
        },
        "id": "c3407dfb",
        "outputId": "a32e1420-68f7-46f7-cd5e-bcdc91de4749"
      },
      "outputs": [
        {
          "output_type": "execute_result",
          "data": {
            "text/plain": [
              "\"Lot's of padding.\""
            ],
            "application/vnd.google.colaboratory.intrinsic+json": {
              "type": "string"
            }
          },
          "metadata": {},
          "execution_count": 33
        }
      ],
      "source": [
        "\"       Lot's of padding.       \".strip()"
      ]
    },
    {
      "cell_type": "code",
      "execution_count": 34,
      "id": "8978878e",
      "metadata": {
        "colab": {
          "base_uri": "https://localhost:8080/"
        },
        "id": "8978878e",
        "outputId": "83fafb85-27e9-480b-a3f7-2411c10dd3c5"
      },
      "outputs": [
        {
          "output_type": "execute_result",
          "data": {
            "text/plain": [
              "False"
            ]
          },
          "metadata": {},
          "execution_count": 34
        }
      ],
      "source": [
        "\"song_243.mp3\".endswith(\".flac\")"
      ]
    },
    {
      "cell_type": "markdown",
      "id": "5767bd7f",
      "metadata": {
        "id": "5767bd7f"
      },
      "source": [
        "### `in`"
      ]
    },
    {
      "cell_type": "code",
      "execution_count": 35,
      "id": "8e0e836b",
      "metadata": {
        "colab": {
          "base_uri": "https://localhost:8080/"
        },
        "id": "8e0e836b",
        "outputId": "cd8e386d-6d91-4c9c-d05d-7275b5495723"
      },
      "outputs": [
        {
          "output_type": "execute_result",
          "data": {
            "text/plain": [
              "True"
            ]
          },
          "metadata": {},
          "execution_count": 35
        }
      ],
      "source": [
        "\"good\" in \"good bye\""
      ]
    },
    {
      "cell_type": "code",
      "execution_count": 36,
      "id": "2b9be66a",
      "metadata": {
        "colab": {
          "base_uri": "https://localhost:8080/"
        },
        "id": "2b9be66a",
        "outputId": "5c7d2311-f52d-450e-9ec7-e2544a1fcfcb"
      },
      "outputs": [
        {
          "output_type": "execute_result",
          "data": {
            "text/plain": [
              "True"
            ]
          },
          "metadata": {},
          "execution_count": 36
        }
      ],
      "source": [
        "\"Good\".lower() in \"good bye\""
      ]
    },
    {
      "cell_type": "markdown",
      "id": "7fc66329",
      "metadata": {
        "id": "7fc66329"
      },
      "source": [
        "### Homework\n",
        "\n",
        "<div class='alert alert-info'>\n",
        "  🎒 Replace all of the punctuation in the following quotes\n",
        "</div>"
      ]
    },
    {
      "cell_type": "code",
      "execution_count": 60,
      "id": "fba54188",
      "metadata": {
        "id": "fba54188"
      },
      "outputs": [],
      "source": [
        "quote_1 = \"Oh I gotta get on that internet, I'm late on everything\""
      ]
    },
    {
      "cell_type": "code",
      "execution_count": 68,
      "id": "38f75559",
      "metadata": {
        "colab": {
          "base_uri": "https://localhost:8080/"
        },
        "id": "38f75559",
        "outputId": "0ef0a2fa-a52f-4d3d-9454-0201b1d26710"
      },
      "outputs": [
        {
          "output_type": "stream",
          "name": "stdout",
          "text": [
            "oh i gotta get on that internet im late on everything\n"
          ]
        }
      ],
      "source": [
        "quote_1 = quote_1.lower().replace(\"!\", \"\").replace(\"?\", \"\").replace(\"'\", \"\")\n",
        "print(quote_1)"
      ]
    },
    {
      "cell_type": "code",
      "execution_count": 50,
      "id": "e1255930",
      "metadata": {
        "id": "e1255930"
      },
      "outputs": [],
      "source": [
        "quote_2 = \"Whats the deal with lampshades, I mean if its a lamp why do you want shade\""
      ]
    },
    {
      "cell_type": "code",
      "execution_count": 78,
      "id": "346eb19c",
      "metadata": {
        "colab": {
          "base_uri": "https://localhost:8080/",
          "height": 35
        },
        "id": "346eb19c",
        "outputId": "d8ad4a3d-0eb4-4919-8842-3e6ad8480920"
      },
      "outputs": [
        {
          "output_type": "execute_result",
          "data": {
            "text/plain": [
              "'WHATS THE DEAL WITH LAMPSHADES I MEAN IF ITS A LAMP WHY DO YOU WANT SHADE'"
            ],
            "application/vnd.google.colaboratory.intrinsic+json": {
              "type": "string"
            }
          },
          "metadata": {},
          "execution_count": 78
        }
      ],
      "source": [
        "quote_2.replace(\",'\",\"\").replace(\"?’\",\"\").replace(\"!\",\"\").upper()"
      ]
    }
  ],
  "metadata": {
    "kernelspec": {
      "display_name": "anaconda-2024.02-py310",
      "language": "python",
      "name": "conda-env-anaconda-2024.02-py310-py"
    },
    "language_info": {
      "codemirror_mode": {
        "name": "ipython",
        "version": 3
      },
      "file_extension": ".py",
      "mimetype": "text/x-python",
      "name": "python",
      "nbconvert_exporter": "python",
      "pygments_lexer": "ipython3",
      "version": "3.10.4"
    },
    "colab": {
      "provenance": [],
      "include_colab_link": true
    }
  },
  "nbformat": 4,
  "nbformat_minor": 5
}