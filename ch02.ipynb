{
  "cells": [
    {
      "cell_type": "markdown",
      "metadata": {
        "id": "view-in-github",
        "colab_type": "text"
      },
      "source": [
        "<a href=\"https://colab.research.google.com/github/marizzareal1-jpg/COMSC140-SU24/blob/main/ch02.ipynb\" target=\"_parent\"><img src=\"https://colab.research.google.com/assets/colab-badge.svg\" alt=\"Open In Colab\"/></a>"
      ]
    },
    {
      "cell_type": "markdown",
      "metadata": {
        "id": "mDwKhwM-ZPc1"
      },
      "source": [
        "# <p style=\"font-family: Arial; font-size:2.4em;color:red;\"> Contents </p>\n",
        "*[Section 1. Arithmetic Operator](ch02.ipynb/#section1) <br>\n",
        "*[Section 2. Variables ](#section2) <br>\n",
        "*[Section 3. Output in Python ](#section3) <br>\n",
        "*[Section 4. Input Statement ](#section4) <br>\n",
        "*[Section 5. String ](#section5) <br>\n",
        "***"
      ]
    },
    {
      "cell_type": "markdown",
      "metadata": {
        "id": "hf5YzA76ZPc2"
      },
      "source": [
        "***\n",
        "<a id=\"section1\"></a>\n",
        "# <p style=\"font-family: Arial; font-size:2.4em;color:red;\"> 1. Arithmetic Operator </p>\n",
        "### <p style=\"font-family: Arial; font-size:1.4em;color:gold;\">  +, -, *, / , // </p>\n"
      ]
    },
    {
      "cell_type": "markdown",
      "metadata": {
        "id": "2MwU2TAzZPc2"
      },
      "source": [
        "### Run all the blow code cells and see the results (click the cell and press \"ctrl-enter\" to run it)"
      ]
    },
    {
      "cell_type": "markdown",
      "metadata": {
        "id": "VhTVE22lZPc2"
      },
      "source": [
        "#### **Problem #1.0**\n",
        "\n",
        "Run the below code cell and figure out the data type of values\n",
        "<br>\n"
      ]
    },
    {
      "cell_type": "code",
      "execution_count": 1,
      "metadata": {
        "colab": {
          "base_uri": "https://localhost:8080/"
        },
        "id": "W7PO-G1lZPc2",
        "outputId": "90d13328-1f36-4367-aae6-c28d3c30267f"
      },
      "outputs": [
        {
          "output_type": "execute_result",
          "data": {
            "text/plain": [
              "30"
            ]
          },
          "metadata": {},
          "execution_count": 1
        }
      ],
      "source": [
        "10 + 20"
      ]
    },
    {
      "cell_type": "code",
      "execution_count": 2,
      "metadata": {
        "colab": {
          "base_uri": "https://localhost:8080/"
        },
        "id": "RFtt9M1YZPc3",
        "outputId": "12120107-b069-4da4-b0fd-c75dc35ab9fc"
      },
      "outputs": [
        {
          "output_type": "execute_result",
          "data": {
            "text/plain": [
              "30.0"
            ]
          },
          "metadata": {},
          "execution_count": 2
        }
      ],
      "source": [
        "10.0 + 20.0"
      ]
    },
    {
      "cell_type": "code",
      "execution_count": 3,
      "metadata": {
        "colab": {
          "base_uri": "https://localhost:8080/"
        },
        "id": "ribCs_0OZPc3",
        "outputId": "b72fb1a8-3805-4496-cc69-0f29eaf3313d"
      },
      "outputs": [
        {
          "output_type": "execute_result",
          "data": {
            "text/plain": [
              "200"
            ]
          },
          "metadata": {},
          "execution_count": 3
        }
      ],
      "source": [
        "10 * 20"
      ]
    },
    {
      "cell_type": "code",
      "execution_count": 4,
      "metadata": {
        "colab": {
          "base_uri": "https://localhost:8080/"
        },
        "id": "JdU8EPy3ZPc3",
        "outputId": "b66b56ec-c60f-46f8-97d0-4541f2ec7043"
      },
      "outputs": [
        {
          "output_type": "execute_result",
          "data": {
            "text/plain": [
              "0.5"
            ]
          },
          "metadata": {},
          "execution_count": 4
        }
      ],
      "source": [
        "10 / 20"
      ]
    },
    {
      "cell_type": "code",
      "execution_count": 5,
      "metadata": {
        "colab": {
          "base_uri": "https://localhost:8080/"
        },
        "id": "mZVIYeYPZPc3",
        "outputId": "a1ae83f3-494a-48f2-b5d5-3c9ffc197f9e"
      },
      "outputs": [
        {
          "output_type": "execute_result",
          "data": {
            "text/plain": [
              "0"
            ]
          },
          "metadata": {},
          "execution_count": 5
        }
      ],
      "source": [
        "10 // 20"
      ]
    },
    {
      "cell_type": "code",
      "execution_count": 6,
      "metadata": {
        "colab": {
          "base_uri": "https://localhost:8080/"
        },
        "id": "J5Fj5N2uZPc3",
        "outputId": "f8b08852-5195-4b41-c10e-0d63a4558de2"
      },
      "outputs": [
        {
          "output_type": "execute_result",
          "data": {
            "text/plain": [
              "2"
            ]
          },
          "metadata": {},
          "execution_count": 6
        }
      ],
      "source": [
        "5 * 10 // 20"
      ]
    },
    {
      "cell_type": "code",
      "execution_count": 7,
      "metadata": {
        "colab": {
          "base_uri": "https://localhost:8080/"
        },
        "id": "E0GwmR1eZPc3",
        "outputId": "1ff55522-1ca9-40c5-d68d-e271cc85e82d"
      },
      "outputs": [
        {
          "output_type": "execute_result",
          "data": {
            "text/plain": [
              "150"
            ]
          },
          "metadata": {},
          "execution_count": 7
        }
      ],
      "source": [
        "5 * 30 + 10 // 20"
      ]
    },
    {
      "cell_type": "code",
      "execution_count": 8,
      "metadata": {
        "colab": {
          "base_uri": "https://localhost:8080/"
        },
        "id": "OnNm_OB7ZPc3",
        "outputId": "90dce0a9-3d81-40ec-b88f-51a3510e39e5"
      },
      "outputs": [
        {
          "output_type": "execute_result",
          "data": {
            "text/plain": [
              "75.0"
            ]
          },
          "metadata": {},
          "execution_count": 8
        }
      ],
      "source": [
        "5 * 30 / 2"
      ]
    },
    {
      "cell_type": "code",
      "execution_count": 9,
      "metadata": {
        "colab": {
          "base_uri": "https://localhost:8080/"
        },
        "id": "HFehbeYFZPc4",
        "outputId": "b1116e26-2618-4e93-bb49-b3c15c483c0f"
      },
      "outputs": [
        {
          "output_type": "execute_result",
          "data": {
            "text/plain": [
              "3"
            ]
          },
          "metadata": {},
          "execution_count": 9
        }
      ],
      "source": [
        "75 // 20"
      ]
    },
    {
      "cell_type": "code",
      "execution_count": 10,
      "metadata": {
        "colab": {
          "base_uri": "https://localhost:8080/"
        },
        "id": "8mBANeNDZPc4",
        "outputId": "142051d2-15a4-4546-cec2-27cd7101fc81"
      },
      "outputs": [
        {
          "output_type": "execute_result",
          "data": {
            "text/plain": [
              "3.0"
            ]
          },
          "metadata": {},
          "execution_count": 10
        }
      ],
      "source": [
        "5 * 30 / 2 // 20"
      ]
    },
    {
      "cell_type": "markdown",
      "metadata": {
        "id": "cgkQ_E6AZPc4"
      },
      "source": [
        "#### **Problem #1.1**\n",
        "\n",
        "Complete the follow code cells\n",
        "<br>\n"
      ]
    },
    {
      "cell_type": "markdown",
      "metadata": {
        "id": "s5aCXDgAZPc4"
      },
      "source": [
        "#### Let's multiply 24.0 and 25.4"
      ]
    },
    {
      "cell_type": "code",
      "source": [
        "24.0 * 25.4"
      ],
      "metadata": {
        "colab": {
          "base_uri": "https://localhost:8080/"
        },
        "id": "FLMs-umOZ1cr",
        "outputId": "81fd62fb-37ed-4d9c-b504-f243335d9b76"
      },
      "execution_count": 12,
      "outputs": [
        {
          "output_type": "execute_result",
          "data": {
            "text/plain": [
              "609.5999999999999"
            ]
          },
          "metadata": {},
          "execution_count": 12
        }
      ]
    },
    {
      "cell_type": "markdown",
      "metadata": {
        "id": "z9xHbN6SZPc4"
      },
      "source": [
        "#### **Problem #1.2**"
      ]
    },
    {
      "cell_type": "markdown",
      "metadata": {
        "id": "ciAHvrgkZPc4"
      },
      "source": [
        "#### Let's divide 23 by 2"
      ]
    },
    {
      "cell_type": "code",
      "execution_count": null,
      "metadata": {
        "id": "dvYpBT61ZPc4"
      },
      "outputs": [],
      "source": [
        "result = ... # make your expression\n",
        "result"
      ]
    },
    {
      "cell_type": "code",
      "source": [
        "23/2"
      ],
      "metadata": {
        "colab": {
          "base_uri": "https://localhost:8080/"
        },
        "id": "PMOVCqxxZ_Ow",
        "outputId": "756b9376-337d-43a1-9ac2-c387c79094f8"
      },
      "execution_count": 13,
      "outputs": [
        {
          "output_type": "execute_result",
          "data": {
            "text/plain": [
              "11.5"
            ]
          },
          "metadata": {},
          "execution_count": 13
        }
      ]
    },
    {
      "cell_type": "markdown",
      "metadata": {
        "id": "FDI_AGsQZPc4"
      },
      "source": [
        "#### **Problem #1.3**"
      ]
    },
    {
      "cell_type": "markdown",
      "metadata": {
        "id": "kc4UeG5BZPc4"
      },
      "source": [
        "#### Let's divide 100 by 20. Show the result as an integer value like 5, not 5.0"
      ]
    },
    {
      "cell_type": "code",
      "execution_count": null,
      "metadata": {
        "id": "iOvXI5iAZPc4",
        "outputId": "895419ef-1133-4cec-e261-48d384d431e6"
      },
      "outputs": [
        {
          "data": {
            "text/plain": [
              "Ellipsis"
            ]
          },
          "execution_count": 4,
          "metadata": {},
          "output_type": "execute_result"
        }
      ],
      "source": [
        "result = ...\n",
        "result"
      ]
    },
    {
      "cell_type": "code",
      "source": [
        "100//20"
      ],
      "metadata": {
        "colab": {
          "base_uri": "https://localhost:8080/"
        },
        "id": "5rvyuyU7aS9C",
        "outputId": "960078d0-152c-4ad1-c4cc-58dc31a694f6"
      },
      "execution_count": 14,
      "outputs": [
        {
          "output_type": "execute_result",
          "data": {
            "text/plain": [
              "5"
            ]
          },
          "metadata": {},
          "execution_count": 14
        }
      ]
    },
    {
      "cell_type": "markdown",
      "metadata": {
        "id": "zAobI0gqZPc5"
      },
      "source": [
        "#### **Problem #1.4**"
      ]
    },
    {
      "cell_type": "markdown",
      "metadata": {
        "id": "EzlCBOJsZPc5"
      },
      "source": [
        "### Explain how you can get the integer result 5 from 100 divide by 20"
      ]
    },
    {
      "cell_type": "markdown",
      "metadata": {
        "id": "UO_Ix_xEZPc5"
      },
      "source": [
        "#### you use / to get potential answers with ex: 0.1 when you use // it gives you whole numbers insted of ex 0.1\n"
      ]
    },
    {
      "cell_type": "markdown",
      "metadata": {
        "id": "7fQsuW2jZPc5"
      },
      "source": [
        "## 👉 Please save<font color='red'> **(ctrl-s or cmd-s)** </font> your file to make a checkpoint."
      ]
    },
    {
      "cell_type": "markdown",
      "metadata": {
        "id": "7futo_hTZPc5"
      },
      "source": [
        "***\n",
        "<a id=\"section2\"></a>\n",
        "# <p style=\"font-family: Arial; font-size:2.4em;color:red;\"> 2. Variables</p>\n",
        "\n",
        "#### Concepts:\n",
        "<blockquote> A variable is a name that represents a value stored in the computer’s memory.\n",
        "</blockquote>\n"
      ]
    },
    {
      "cell_type": "markdown",
      "metadata": {
        "id": "ehdiKM45ZPc5"
      },
      "source": [
        "<blockquote>\n",
        "An assignment statement is written in the following general format:\n",
        "variable = expression\n",
        "</blockquote>"
      ]
    },
    {
      "cell_type": "code",
      "execution_count": 18,
      "metadata": {
        "id": "yy-pzNSbZPc5"
      },
      "outputs": [],
      "source": [
        "width = 10\n",
        "length = 5\n",
        "\n",
        "length = 10"
      ]
    },
    {
      "cell_type": "code",
      "execution_count": 19,
      "metadata": {
        "colab": {
          "base_uri": "https://localhost:8080/",
          "height": 35
        },
        "id": "vyROALikZPc5",
        "outputId": "c6bc3483-0f96-4604-8637-50d76abbc54f"
      },
      "outputs": [
        {
          "output_type": "execute_result",
          "data": {
            "text/plain": [
              "'Python'"
            ],
            "application/vnd.google.colaboratory.intrinsic+json": {
              "type": "string"
            }
          },
          "metadata": {},
          "execution_count": 19
        }
      ],
      "source": [
        "class_name = 'Python'\n",
        "class_name"
      ]
    },
    {
      "cell_type": "markdown",
      "metadata": {
        "id": "U-a8h7-MZPc5"
      },
      "source": [
        "#### **Problem #2.0**\n",
        "\n",
        "Run the below code cell and figure out the data type of values\n",
        "<br>\n"
      ]
    },
    {
      "cell_type": "code",
      "execution_count": 20,
      "metadata": {
        "colab": {
          "base_uri": "https://localhost:8080/"
        },
        "id": "UT3gcXlKZPc6",
        "outputId": "fc2ae5f1-37e1-481d-f0b2-d638fbfbf24e"
      },
      "outputs": [
        {
          "output_type": "execute_result",
          "data": {
            "text/plain": [
              "int"
            ]
          },
          "metadata": {},
          "execution_count": 20
        }
      ],
      "source": [
        "type(width)"
      ]
    },
    {
      "cell_type": "code",
      "execution_count": 21,
      "metadata": {
        "colab": {
          "base_uri": "https://localhost:8080/"
        },
        "id": "Cku_OrUkZPc6",
        "outputId": "63828280-047f-4cb9-f2a9-bedac115bff2"
      },
      "outputs": [
        {
          "output_type": "execute_result",
          "data": {
            "text/plain": [
              "str"
            ]
          },
          "metadata": {},
          "execution_count": 21
        }
      ],
      "source": [
        "\n",
        "type(class_name)"
      ]
    },
    {
      "cell_type": "code",
      "execution_count": 17,
      "metadata": {
        "colab": {
          "base_uri": "https://localhost:8080/"
        },
        "id": "CWUknEkWZPc6",
        "outputId": "f3538a23-9482-4c5e-a20e-79a0e05faf1a"
      },
      "outputs": [
        {
          "output_type": "stream",
          "name": "stdout",
          "text": [
            "Hello World\n"
          ]
        }
      ],
      "source": [
        "print (\"Hello World\")"
      ]
    },
    {
      "cell_type": "markdown",
      "metadata": {
        "id": "GoFl2jXwZPc6"
      },
      "source": [
        "#### **Problem #2.1**\n",
        "\n",
        "\n",
        "let's create a variable called `my_school` and assign a string (anything inside quotes: `\"...\"`) to it with your school's name.\n",
        "\n",
        "<br>\n",
        "\n",
        "**NOTE**: We will output the variable's value by writing the name of the variable on a line of its own."
      ]
    },
    {
      "cell_type": "code",
      "execution_count": 22,
      "metadata": {
        "colab": {
          "base_uri": "https://localhost:8080/"
        },
        "id": "biYVEzg-ZPc6",
        "outputId": "468aa19d-c012-44c0-de04-c2c845c953ae"
      },
      "outputs": [
        {
          "output_type": "execute_result",
          "data": {
            "text/plain": [
              "Ellipsis"
            ]
          },
          "metadata": {},
          "execution_count": 22
        }
      ],
      "source": [
        "my_school = ...\n",
        "\n",
        "my_school"
      ]
    },
    {
      "cell_type": "markdown",
      "metadata": {
        "id": "v3veT6lyZPc6"
      },
      "source": [
        "#### **Problem #2.2**\n",
        "\n",
        "Let's create <font color=\"red\"> two varibles </font> to hold two scores 100 and 90 repectivelu and show the sum of two scores.\n",
        "<br>\n",
        "\n",
        "**NOTE**: We will output the variable's value by writing the name of the variable on a line of its own."
      ]
    },
    {
      "cell_type": "code",
      "execution_count": 25,
      "metadata": {
        "colab": {
          "base_uri": "https://localhost:8080/"
        },
        "id": "q2qRcGgvZPc6",
        "outputId": "528175d3-b351-4577-db16-48ead87d3a3a"
      },
      "outputs": [
        {
          "output_type": "execute_result",
          "data": {
            "text/plain": [
              "190"
            ]
          },
          "metadata": {},
          "execution_count": 25
        }
      ],
      "source": [
        "\n",
        "score1 = 100\n",
        "score2 = 90\n",
        "sum_scores = score1 +score2\n",
        "sum_scores"
      ]
    },
    {
      "cell_type": "markdown",
      "metadata": {
        "id": "TPwOiTxXZPc6"
      },
      "source": [
        "#### **Problem #2.3**\n",
        "\n",
        "Let's create the <font color=\"red\"> **varibles** </font> to hold two values,  <br>\n",
        "100  <br>\n",
        "50.99   <br>\n",
        "<br>\n",
        "The variable names can be any names you want\n",
        "Then, show the summation of two variables.\n",
        "\n",
        "**NOTE**: We will output the variable's value by writing the name of the variable on a line of its own."
      ]
    },
    {
      "cell_type": "code",
      "execution_count": 26,
      "metadata": {
        "colab": {
          "base_uri": "https://localhost:8080/"
        },
        "id": "l1nPWDcZZPc6",
        "outputId": "60460137-717d-41b7-8244-51c1f4fdc3cd"
      },
      "outputs": [
        {
          "output_type": "execute_result",
          "data": {
            "text/plain": [
              "150.99"
            ]
          },
          "metadata": {},
          "execution_count": 26
        }
      ],
      "source": [
        "\n",
        "value1 = 100\n",
        "value2 = 50.99\n",
        "sum_values = value1 + value2\n",
        "sum_values"
      ]
    },
    {
      "cell_type": "markdown",
      "metadata": {
        "id": "iThKq6xQZPc6"
      },
      "source": [
        "#### **Problem #2.4**\n",
        "\n",
        "Let's create the <font color=\"red\"> **varibles** </font> to hold two values,  <br>\n",
        "<br><mark style=\"background-color:green; color:white\">\n",
        "Python  <br>\n",
        "Programming   <br>\n",
        "</mark>\n",
        "<br> </font>\n",
        "The variable names can be any names you want\n",
        "Then, show the summation of two variables.\n",
        "\n",
        "**NOTE**: We will output the variable's value by writing the name of the variable on a line of its own."
      ]
    },
    {
      "cell_type": "code",
      "execution_count": 32,
      "metadata": {
        "colab": {
          "base_uri": "https://localhost:8080/",
          "height": 35
        },
        "id": "vIC_E2eyZPc7",
        "outputId": "21720f6f-8adf-486b-de91-ed66d989d743"
      },
      "outputs": [
        {
          "output_type": "execute_result",
          "data": {
            "text/plain": [
              "'PythonProgramming'"
            ],
            "application/vnd.google.colaboratory.intrinsic+json": {
              "type": "string"
            }
          },
          "metadata": {},
          "execution_count": 32
        }
      ],
      "source": [
        "\n",
        "word1 = \"Python\"\n",
        "word2 = \"Programming\"\n",
        "sum_word = word1 + word2\n",
        "sum_word"
      ]
    },
    {
      "cell_type": "markdown",
      "metadata": {
        "id": "pbhAunJ0ZPc7"
      },
      "source": [
        "#### **Problem #2.5**\n",
        "\n",
        "#### make the expression to calculate the following math expression\n",
        "#### Set 30 to C and Solve the F value\n",
        "![Math Expression](https://wecapable.com/tools/celsius-to-fahrenheit/celsius-to-fahrenheit-conversion-formula-igetanswers.jpg)\n",
        "\n",
        "<br> Show the answer for F\n"
      ]
    },
    {
      "cell_type": "code",
      "execution_count": 38,
      "metadata": {
        "colab": {
          "base_uri": "https://localhost:8080/"
        },
        "id": "L1BkonHtZPc7",
        "outputId": "e5d2c6c2-c3fb-49e2-d3db-1cc98860a67d"
      },
      "outputs": [
        {
          "output_type": "execute_result",
          "data": {
            "text/plain": [
              "86.0"
            ]
          },
          "metadata": {},
          "execution_count": 38
        }
      ],
      "source": [
        "C = 30\n",
        "f = 9/5 * C +32\n",
        "f"
      ]
    },
    {
      "cell_type": "markdown",
      "metadata": {
        "id": "xVwX3GwTZPc7"
      },
      "source": [
        "#### **Problem #2.6**\n",
        "\n",
        "#### Set the price value $200 to your variable (any variable name you want)\n",
        "#### Calculate the 20% off price\n",
        "#### Show the final price\n",
        "\n"
      ]
    },
    {
      "cell_type": "code",
      "execution_count": 40,
      "metadata": {
        "colab": {
          "base_uri": "https://localhost:8080/"
        },
        "id": "JfClqdRLZPc7",
        "outputId": "28041889-4b57-43b6-ffe0-f00fa7665310"
      },
      "outputs": [
        {
          "output_type": "execute_result",
          "data": {
            "text/plain": [
              "160.0"
            ]
          },
          "metadata": {},
          "execution_count": 40
        }
      ],
      "source": [
        "price = 200\n",
        "discount = price * 0.20\n",
        "final_price = price - discount\n",
        "final_price"
      ]
    },
    {
      "cell_type": "markdown",
      "metadata": {
        "id": "CsbRRtt0ZPc7"
      },
      "source": [
        "#### **Problem #2.7**\n",
        "\n",
        "#### Create three integer variables to hold the following values\n",
        "##### 100\n",
        "##### 50\n",
        "##### 200\n",
        "\n",
        "#### Calculate the average of three values\n",
        "#### Show the average\n",
        "\n"
      ]
    },
    {
      "cell_type": "code",
      "execution_count": 45,
      "metadata": {
        "colab": {
          "base_uri": "https://localhost:8080/"
        },
        "id": "Ik0fwOfNZPc7",
        "outputId": "700efa8a-cbc7-4ae5-a13c-f82c251b0c65"
      },
      "outputs": [
        {
          "output_type": "execute_result",
          "data": {
            "text/plain": [
              "116.66666666666667"
            ]
          },
          "metadata": {},
          "execution_count": 45
        }
      ],
      "source": [
        "num1 = 100\n",
        "num2 = 50\n",
        "num3 = 200\n",
        "average = (num1 + num2 + num3) / 3\n",
        "average"
      ]
    },
    {
      "cell_type": "markdown",
      "metadata": {
        "id": "HMHr18Y_ZPc7"
      },
      "source": [
        "## 👉 Please save<font color='red'> **(ctrl-s or cmd-s)** </font> your file to make a checkpoint."
      ]
    },
    {
      "cell_type": "markdown",
      "metadata": {
        "id": "HNCJ1n4kZPc7"
      },
      "source": [
        "***\n",
        "<a id='section3'></a>\n",
        "# <p style=\"font-family: Arial; font-size:2.4em;color:Red;\"> 3. Output in Python </p>\n"
      ]
    },
    {
      "cell_type": "markdown",
      "metadata": {
        "id": "E5orE9aoZPc8"
      },
      "source": [
        "### Simple Formatting Numbers\n",
        "\n",
        "\n",
        "- `Simple way to print with format:`\n",
        "\n",
        "\t- <a href=\"https://docs.python.org/3/library/functions.html?highlight=format#format\"> format(value[, format_spec])\n",
        "\t</a>\n",
        "\t- <a href=\"https://docs.python.org/3/library/string.html#formatspec\"> Format Specification </a>\n",
        "\n",
        "![Format Specifier](https://nimbus-screenshots.s3.amazonaws.com/s/cc0c0ec7efc3aba9bc4406f053b8fdf4.png)\n"
      ]
    },
    {
      "cell_type": "markdown",
      "metadata": {
        "id": "3VeJH8adZPc8"
      },
      "source": [
        "#### <font color='red'> **Problem #3.1** </font>\n",
        "\n",
        "#### Run all the below cells and figure out the output format symbols\n",
        "\n"
      ]
    },
    {
      "cell_type": "markdown",
      "metadata": {
        "id": "23IQwrGcZPc8"
      },
      "source": [
        "### <mark style=\"background-color:green; color:white\"> formatting </mark>"
      ]
    },
    {
      "cell_type": "code",
      "execution_count": 46,
      "metadata": {
        "colab": {
          "base_uri": "https://localhost:8080/"
        },
        "id": "NKmOs9dqZPc8",
        "outputId": "df41c787-cea9-4970-ac13-e52757c1caab"
      },
      "outputs": [
        {
          "output_type": "stream",
          "name": "stdout",
          "text": [
            "123456789\n",
            "      123456789\n",
            "12345.68\n"
          ]
        }
      ],
      "source": [
        "# Format with width, Decimal / Float\n",
        "\n",
        "print ( 123456789 )\n",
        "print (format(123456789, '15d'))\n",
        "print (format(12345.678, '.2f'))\n"
      ]
    },
    {
      "cell_type": "code",
      "execution_count": 47,
      "metadata": {
        "colab": {
          "base_uri": "https://localhost:8080/"
        },
        "id": "RlrrMv9jZPc8",
        "outputId": "ea0c71c7-7083-4e2f-cc50-8b1ea9ca50af"
      },
      "outputs": [
        {
          "output_type": "stream",
          "name": "stdout",
          "text": [
            "1.234568e+04\n",
            "1.23e+04\n"
          ]
        }
      ],
      "source": [
        "# Scientific Notation\n",
        "\n",
        "print (format(12345.6789, 'e'))\n",
        "print (format(12345.6789, '.2e'))\n"
      ]
    },
    {
      "cell_type": "code",
      "execution_count": 48,
      "metadata": {
        "colab": {
          "base_uri": "https://localhost:8080/"
        },
        "id": "cQwOyBRgZPc8",
        "outputId": "8d16b9ef-77d1-475d-f976-e366251f4acb"
      },
      "outputs": [
        {
          "output_type": "stream",
          "name": "stdout",
          "text": [
            "123,456,789.12\n"
          ]
        }
      ],
      "source": [
        "#? Inserting comma separator\n",
        "\n",
        "print (format(123456789.12345, ',.2f'))\n"
      ]
    },
    {
      "cell_type": "code",
      "execution_count": 49,
      "metadata": {
        "colab": {
          "base_uri": "https://localhost:8080/"
        },
        "id": "Fbi6_-wyZPc8",
        "outputId": "62dcdad4-f3cb-4ea3-8e83-e9edceb9cdda"
      },
      "outputs": [
        {
          "output_type": "stream",
          "name": "stdout",
          "text": [
            "1234567.89%\n"
          ]
        }
      ],
      "source": [
        "#? Floating point numbers as a percentage\n",
        "\n",
        "print (format(12345.6789, '.2%'))"
      ]
    },
    {
      "cell_type": "markdown",
      "metadata": {
        "id": "NVptUV1XZPc8"
      },
      "source": [
        "### <mark style=\"background-color:green; color:white\"> % formatting </mark>"
      ]
    },
    {
      "cell_type": "code",
      "execution_count": 50,
      "metadata": {
        "colab": {
          "base_uri": "https://localhost:8080/"
        },
        "id": "Wlvp0gt5ZPc8",
        "outputId": "6a57acd0-595a-4cc5-c9d6-c95147d36686"
      },
      "outputs": [
        {
          "output_type": "stream",
          "name": "stdout",
          "text": [
            "Value 1 is 1000\n"
          ]
        }
      ],
      "source": [
        "val1 =  1000\n",
        "print (\"Value 1 is %d\" % (val1))"
      ]
    },
    {
      "cell_type": "code",
      "execution_count": 51,
      "metadata": {
        "colab": {
          "base_uri": "https://localhost:8080/"
        },
        "id": "0phjqYN2ZPc8",
        "outputId": "7688089b-d898-4fe0-b4c3-bb0190459efd"
      },
      "outputs": [
        {
          "output_type": "stream",
          "name": "stdout",
          "text": [
            "Integer value: 100, String Value: COMSC140, Floating Value:1234.57\n"
          ]
        }
      ],
      "source": [
        "\n",
        "val1 = 100\n",
        "val2 = 1234.5678\n",
        "strval = \"COMSC140\"\n",
        "\n",
        "print (\"Integer value: %d, String Value: %s, Floating Value:%.2f\" % (val1, strval, val2))"
      ]
    },
    {
      "cell_type": "markdown",
      "metadata": {
        "id": "5YGNOHIGZPc8"
      },
      "source": [
        "#### <mark style=\"background-color:green; color:white\"> Using the String format </mark>"
      ]
    },
    {
      "cell_type": "code",
      "execution_count": 52,
      "metadata": {
        "colab": {
          "base_uri": "https://localhost:8080/"
        },
        "id": "mKibOV_HZPc9",
        "outputId": "6449bcd7-6b38-493e-d33a-e55b7ddb47a6"
      },
      "outputs": [
        {
          "output_type": "stream",
          "name": "stdout",
          "text": [
            "Python Programming Class\n"
          ]
        }
      ],
      "source": [
        "print ( '{0} {1} Class'.format('Python', 'Programming'))"
      ]
    },
    {
      "cell_type": "code",
      "execution_count": 53,
      "metadata": {
        "colab": {
          "base_uri": "https://localhost:8080/"
        },
        "id": "tpzrn6epZPc9",
        "outputId": "eb235d8c-3a7a-4fe6-c041-fb90c9e43426"
      },
      "outputs": [
        {
          "output_type": "stream",
          "name": "stdout",
          "text": [
            "                   Python Programming     Class\n"
          ]
        }
      ],
      "source": [
        "print ( '{0:>25} {1:15} Class'.format('Python', 'Programming'))"
      ]
    },
    {
      "cell_type": "code",
      "execution_count": 59,
      "metadata": {
        "colab": {
          "base_uri": "https://localhost:8080/"
        },
        "id": "K3n0xOzlZPc9",
        "outputId": "b5580dfa-e721-44f6-ad05-14fa4a753f0c"
      },
      "outputs": [
        {
          "output_type": "stream",
          "name": "stdout",
          "text": [
            "This spam is absolutely horrible.\n"
          ]
        }
      ],
      "source": [
        "print('This {food} is {adjective}.'.format(food='spam', adjective='absolutely horrible'))"
      ]
    },
    {
      "cell_type": "code",
      "execution_count": 55,
      "metadata": {
        "colab": {
          "base_uri": "https://localhost:8080/"
        },
        "id": "0_fOneK5ZPc9",
        "outputId": "359d13ef-baaf-4dba-9a82-a0ca4354c7e7"
      },
      "outputs": [
        {
          "output_type": "stream",
          "name": "stdout",
          "text": [
            "Value 1: 100 and Value 2: 200\n"
          ]
        }
      ],
      "source": [
        "v1 = 100; v2 = 200\n",
        "\n",
        "print (\"Value 1: {} and Value 2: {}\".format(v1, v2))"
      ]
    },
    {
      "cell_type": "code",
      "execution_count": 56,
      "metadata": {
        "colab": {
          "base_uri": "https://localhost:8080/"
        },
        "id": "lQWekjqMZPc9",
        "outputId": "7682e813-fd04-4fae-c69c-8cef61378796"
      },
      "outputs": [
        {
          "output_type": "stream",
          "name": "stdout",
          "text": [
            "The average is 56.67 \n",
            "The average is 56.67 \n",
            "The average is 60.00\n"
          ]
        }
      ],
      "source": [
        "avg = (100 + 50 + 20) / 3\n",
        "\n",
        "print (\"The average is {0:.2f} \".format(avg))\n",
        "print (\"The average is {:.2f} \".format(avg))\n",
        "\n",
        "print('The average is {0:.2f}'.format(59.999999))"
      ]
    },
    {
      "cell_type": "code",
      "execution_count": 57,
      "metadata": {
        "colab": {
          "base_uri": "https://localhost:8080/"
        },
        "id": "4x3dWyJWZPc9",
        "outputId": "fca39281-6835-4742-fade-0a3cd25e5662"
      },
      "outputs": [
        {
          "output_type": "stream",
          "name": "stdout",
          "text": [
            "12345.68\n",
            "     12345\n",
            "1.234568e+04\n",
            "1.23e+04\n",
            "1234567.89%\n"
          ]
        }
      ],
      "source": [
        "print ( format(12345.6789, '.2f'))\n",
        "print ( format(12345, '10d'))\n",
        "print ( format(12345.6789, 'e'))\n",
        "print ( format(12345.6789, '.2e'))\n",
        "print ( format(12345.6789, '.2%'))"
      ]
    },
    {
      "cell_type": "code",
      "execution_count": 58,
      "metadata": {
        "colab": {
          "base_uri": "https://localhost:8080/"
        },
        "id": "kiFR5OUmZPc9",
        "outputId": "0e5fa8ea-a2b7-4b3b-cc1a-001d2d517238"
      },
      "outputs": [
        {
          "output_type": "stream",
          "name": "stdout",
          "text": [
            "one\n",
            "two\n",
            "three\n",
            "one two three one/two/three\n"
          ]
        }
      ],
      "source": [
        "# 2.8 More about Data output\n",
        "\n",
        "print ('one')\n",
        "print ('two')\n",
        "print ('three')\n",
        "\n",
        "print ('one', end=' ')\n",
        "print ('two', end=' ')\n",
        "print ('three', end=' ')\n",
        "\n",
        "#? Specifying an Item Separator\n",
        "print ('one', 'two', 'three', sep='/')\n"
      ]
    },
    {
      "cell_type": "markdown",
      "metadata": {
        "id": "aBl3zhWYZPc9"
      },
      "source": [
        "## 👉✅ <mark style=\"background-color:green; color:white\"> PEP 498; f-string </mark>"
      ]
    },
    {
      "cell_type": "code",
      "execution_count": 60,
      "metadata": {
        "colab": {
          "base_uri": "https://localhost:8080/"
        },
        "id": "_6SemzCNZPc9",
        "outputId": "44d82f49-ba49-4c75-d7d4-9e19e5448c48"
      },
      "outputs": [
        {
          "output_type": "stream",
          "name": "stdout",
          "text": [
            "The value is 10\n",
            "The value is                   10\n",
            "The value is      12.34\n",
            "The value is 12.34000\n",
            "The string value is                                 Python Programming\n"
          ]
        }
      ],
      "source": [
        "value = 10\n",
        "\n",
        "print (f'The value is {value}')\n",
        "print (f'The value is {value:20}')\n",
        "\n",
        "fvalue = 12.34\n",
        "print (f'The value is {fvalue:>10}')\n",
        "print (f'The value is {fvalue:.5f}')\n",
        "\n",
        "strval = \"Python Programming\"\n",
        "print (f\"The string value is {strval:>50}\")"
      ]
    },
    {
      "cell_type": "markdown",
      "metadata": {
        "id": "NW_Hg-SMZPc9"
      },
      "source": [
        "***\n",
        "### Operators\n",
        "![Operators](https://p76.f0.n0.cdn.getcloudapp.com/items/6quEZnzo/bd9ed612-c454-488d-99e3-47237866c01e.jpg?source=viewer&v=6133a6ca78498b57666506941afd8a12)"
      ]
    },
    {
      "cell_type": "markdown",
      "metadata": {
        "id": "o4nkyCaiZPc9"
      },
      "source": [
        "## 👉 Please save<font color='red'> **(ctrl-s or cmd-s)** </font> your file to make a checkpoint."
      ]
    },
    {
      "cell_type": "markdown",
      "metadata": {
        "id": "D3FgZEX7ZPc9"
      },
      "source": [
        "***\n",
        "<a id='section4'> </a>\n",
        "# <p style=\"font-family: Arial; font-size:2.4em;color:Red;\"> 4. Input Statement </p>\n",
        "\n",
        "<blockquote>\n",
        "variable = input(prompt)\n",
        "</blockquote>"
      ]
    },
    {
      "cell_type": "markdown",
      "metadata": {
        "id": "TGx3LxY_ZPc-"
      },
      "source": [
        "#### **Problem #4.0**\n",
        "\n",
        "#### Run all the following codes and see the results\n",
        "#### <font color=\"red\">\"Where does the input box appear?\" </font>"
      ]
    },
    {
      "cell_type": "code",
      "execution_count": 62,
      "metadata": {
        "colab": {
          "base_uri": "https://localhost:8080/"
        },
        "id": "fbWNAbjVZPc-",
        "outputId": "f8e9e722-a861-4d68-96a8-f1e1f2129d20"
      },
      "outputs": [
        {
          "output_type": "stream",
          "name": "stdout",
          "text": [
            "Enter your score 80\n",
            "Your score is   80\n"
          ]
        }
      ],
      "source": [
        "score = input('Enter your score')\n",
        "print ('Your score is ', score)\n"
      ]
    },
    {
      "cell_type": "code",
      "execution_count": 64,
      "metadata": {
        "colab": {
          "base_uri": "https://localhost:8080/",
          "height": 211
        },
        "id": "uMrWkAtXZPc-",
        "outputId": "c7dd88d4-ce89-4ac1-cc65-26b14c6301ec"
      },
      "outputs": [
        {
          "name": "stdout",
          "output_type": "stream",
          "text": [
            "Enter your score 70\n"
          ]
        },
        {
          "output_type": "error",
          "ename": "TypeError",
          "evalue": "can only concatenate str (not \"int\") to str",
          "traceback": [
            "\u001b[0;31m---------------------------------------------------------------------------\u001b[0m",
            "\u001b[0;31mTypeError\u001b[0m                                 Traceback (most recent call last)",
            "\u001b[0;32m/tmp/ipython-input-1801865729.py\u001b[0m in \u001b[0;36m<cell line: 0>\u001b[0;34m()\u001b[0m\n\u001b[1;32m      1\u001b[0m \u001b[0mscore\u001b[0m \u001b[0;34m=\u001b[0m \u001b[0minput\u001b[0m \u001b[0;34m(\u001b[0m\u001b[0;34m'Enter your score'\u001b[0m\u001b[0;34m)\u001b[0m\u001b[0;34m\u001b[0m\u001b[0;34m\u001b[0m\u001b[0m\n\u001b[0;32m----> 2\u001b[0;31m \u001b[0mfinal_score\u001b[0m \u001b[0;34m=\u001b[0m \u001b[0mscore\u001b[0m \u001b[0;34m+\u001b[0m \u001b[0;36m100\u001b[0m\u001b[0;34m;\u001b[0m              \u001b[0;31m# this line causes an error\u001b[0m\u001b[0;34m\u001b[0m\u001b[0;34m\u001b[0m\u001b[0m\n\u001b[0m\u001b[1;32m      3\u001b[0m \u001b[0;34m\u001b[0m\u001b[0m\n\u001b[1;32m      4\u001b[0m \u001b[0mprint\u001b[0m \u001b[0;34m(\u001b[0m\u001b[0mfinal_score\u001b[0m\u001b[0;34m)\u001b[0m\u001b[0;34m\u001b[0m\u001b[0;34m\u001b[0m\u001b[0m\n",
            "\u001b[0;31mTypeError\u001b[0m: can only concatenate str (not \"int\") to str"
          ]
        }
      ],
      "source": [
        "score = input ('Enter your score')\n",
        "final_score = score + 100;\t\t# this line causes an error\n",
        "\n",
        "print (final_score)"
      ]
    },
    {
      "cell_type": "code",
      "execution_count": 68,
      "metadata": {
        "colab": {
          "base_uri": "https://localhost:8080/"
        },
        "id": "dEn3CYvaZPc-",
        "outputId": "4978c28c-6521-4fdc-d4ca-2e199bbdc8a2"
      },
      "outputs": [
        {
          "output_type": "stream",
          "name": "stdout",
          "text": [
            "Enter your score54\n",
            "Final Score is        154\n"
          ]
        }
      ],
      "source": [
        "score = input ('Enter your score')\n",
        "final_score = int(score) + 100;\t\t# this line causes an error\n",
        "\n",
        "print (f'Final Score is {final_score:10}')"
      ]
    },
    {
      "cell_type": "markdown",
      "metadata": {
        "id": "6l93y57JZPc-"
      },
      "source": [
        "#### **Problem #4.1**\n",
        "<ol>\n",
        "<li> <font color=\"red\"> Ask the user name and score </font> </li>\n",
        "<li> Print the name and score </li>\n",
        "</ol>"
      ]
    },
    {
      "cell_type": "code",
      "execution_count": 70,
      "metadata": {
        "colab": {
          "base_uri": "https://localhost:8080/"
        },
        "id": "6dTr0MVsZPc-",
        "outputId": "0672dad4-f898-48fa-b8bb-a2e7a7513cae"
      },
      "outputs": [
        {
          "output_type": "stream",
          "name": "stdout",
          "text": [
            "Enter your namemarizza \n",
            "Enter your score20\n",
            "marizza  20\n"
          ]
        }
      ],
      "source": [
        "name = input('Enter your name')\n",
        "score = int(input('Enter your score'))\n",
        "print (name ,score)"
      ]
    },
    {
      "cell_type": "markdown",
      "metadata": {
        "id": "ofw8POACZPc-"
      },
      "source": [
        "#### **Problem #4.2**\n",
        "<ol>\n",
        "<li> <font color=\"red\"> Ask two scores </font> </li>\n",
        "<li> Print all the scores, summation and average </li>\n",
        "</ol>\n",
        "\n",
        "<ul>\n",
        "<li> Why should we use the funtion <font color=\"red\"> int()</font> for the scores? </li>\n",
        "</ul>"
      ]
    },
    {
      "cell_type": "code",
      "execution_count": 77,
      "metadata": {
        "colab": {
          "base_uri": "https://localhost:8080/"
        },
        "id": "GGoKJWqQZPc-",
        "outputId": "06515bc0-f472-46dc-f509-6a0f0674e5fc"
      },
      "outputs": [
        {
          "output_type": "stream",
          "name": "stdout",
          "text": [
            "Enter the score 130\n",
            "Enter the score 280\n",
            "score 1: 30\n",
            "score 2: 80\n",
            "average score 55.0\n"
          ]
        }
      ],
      "source": [
        "score1 = int(input('Enter the score 1'))\n",
        "score2 = int(input('Enter the score 2'))\n",
        "total = score1 +score2\n",
        "average = total/ 2\n",
        "print (\"score 1:\", score1)\n",
        "print (\"score 2:\", score2)\n",
        "print (\"average score\", average)\n"
      ]
    },
    {
      "cell_type": "markdown",
      "metadata": {
        "id": "ljEkOO1-ZPc-"
      },
      "source": [
        "#### **Problem #4.3**\n",
        "<ol>\n",
        "<li> Ask the regular price\n",
        "<li> Ask the discount rate as a percentage(e.g, 30)</li>\n",
        "<li> Calcurate the final price ( Regular price * discount_rate / 100 ) </li>\n",
        "<li> Print Regular Prices, Discount Rate and Final Price with F-String format </li>\n",
        "</ol>\n",
        "<ul>\n",
        "<li> For example, print (f'Regular Price: {rprice:10}, Discount Rate: {drate:10}, Final Price: {fprice}) </li>\n",
        "</ul>"
      ]
    },
    {
      "cell_type": "code",
      "source": [
        "rprice = int(input(\"Enter Regular Price\"))\n",
        "drate = int(input(\"Enter Discount Rate\"))\n",
        "fprice = rprice * (100 - drate) //100\n",
        "print(f'Regular Price: {rprice}, Discount rate:{drate}, Final Price: {fprice}')"
      ],
      "metadata": {
        "colab": {
          "base_uri": "https://localhost:8080/"
        },
        "id": "3tko_RCHwZJa",
        "outputId": "ef86aa90-97df-4d29-bc36-f6f789211e15"
      },
      "execution_count": 95,
      "outputs": [
        {
          "output_type": "stream",
          "name": "stdout",
          "text": [
            "Enter Regular Price50\n",
            "Enter Discount Rate5\n",
            "Regular Price: 50, Discount rate:5, Final Price: 47\n"
          ]
        }
      ]
    },
    {
      "cell_type": "markdown",
      "metadata": {
        "id": "EpCT7WzlZPc_"
      },
      "source": [
        "#### **Problem #4.5**\n",
        "<ol>\n",
        "<li> Ask the celcius temperature(<font color=\"red\">floating value</font>) to the user\n",
        "<li> Calculate the Farenheit Temperature </li>\n",
        "<li> Print the Celcius and Farenheit Temperature with F-String format. Show the two practional digits </li>\n",
        "</ol>\n",
        "<ul>\n",
        "<li> For example, </li>\n",
        "<pre>\n",
        "print (f'Inputted Celcius: {celcius:10.2f}, Converted Fahrenhiet: {fahrenheit:10.2f}')\n",
        "<pre>\n",
        "</ul>"
      ]
    },
    {
      "cell_type": "code",
      "execution_count": 96,
      "metadata": {
        "colab": {
          "base_uri": "https://localhost:8080/"
        },
        "id": "ORV6jBNCZPc_",
        "outputId": "1b10dd71-71b2-49bc-bba4-e84eea8d2641"
      },
      "outputs": [
        {
          "output_type": "stream",
          "name": "stdout",
          "text": [
            "Enter Temperatrue 30\n",
            "Celsius Provided:30.0,celsius converted to fahrenheit:86.0\n"
          ]
        }
      ],
      "source": [
        "celsius = float(input(\"Enter Temperatrue\"))\n",
        "fahremheit = (celsius * 9/5) + 32\n",
        "print(f'Celsius Provided:{celsius},celsius converted to fahrenheit:{fahremheit}')"
      ]
    },
    {
      "cell_type": "markdown",
      "metadata": {
        "id": "qe0ufGNOZPc_"
      },
      "source": [
        "#### **Problem #4.6**\n",
        "\n",
        "<ol>\n",
        "<li> Ask the last name to the user </li>\n",
        "<li> Ask the first name to the user </li>\n",
        "<li> Print the first and last name in the seprated line </li>\n",
        "</ol>"
      ]
    },
    {
      "cell_type": "code",
      "execution_count": 99,
      "metadata": {
        "colab": {
          "base_uri": "https://localhost:8080/"
        },
        "id": "tCHUQ_pXZPc_",
        "outputId": "454cc01d-f2fc-42b1-f8ab-5ff65ec15aed"
      },
      "outputs": [
        {
          "output_type": "stream",
          "name": "stdout",
          "text": [
            "Enter the Last nameReal\n",
            "Enter the first nameMarizza\n",
            "First Name: Marizza\n",
            " Last Name Real\n"
          ]
        }
      ],
      "source": [
        "lname = input('Enter the Last name')\n",
        "fname= input('Enter the first name')\n",
        "print(f'First Name: {fname}\\n Last Name {lname}')"
      ]
    },
    {
      "cell_type": "markdown",
      "metadata": {
        "id": "Epa4BmLXZPc_"
      },
      "source": [
        "## 👉 Please save<font color='red'> **(ctrl-s or cmd-s)** </font> your file to make a checkpoint."
      ]
    },
    {
      "cell_type": "markdown",
      "metadata": {
        "id": "uqECtq2EZPc_"
      },
      "source": [
        "<a id=section5></a>\n",
        "# <p style=\"font-family: Arial; font-size:2.4em;color:Red;\"> 5. String </p>\n",
        "<mark style=\"background-color:teal; color:white\"> Useful Links </mark>\n",
        "#### <a href=\"https://docs.python.org/3/library/stdtypes.html#string-methods\"> String Method in Python Documentation </a>\n",
        "#### <a href=\"https://www.w3schools.com/python/python_ref_string.asp\"> W3 School Examples </a>"
      ]
    },
    {
      "cell_type": "markdown",
      "metadata": {
        "id": "Hj_RDXyyZPc_"
      },
      "source": [
        "#### <p style=\"font-family: Arial; font-size:1.4em; background-color: yellow; color:black;\"> Problem #5.1 </p>\n",
        "<ul>\n",
        "<li> Run all the example code cells below\n",
        "</ul>"
      ]
    },
    {
      "cell_type": "markdown",
      "metadata": {
        "id": "h3QlrT1jZPc_"
      },
      "source": [
        "#### The string value can be accessed by <mark style=\"background-color:yellow; color:black\">index</mark>\n",
        "\n",
        "#### String variable can be followed by all the <mark style=\"background-color:yellow; color:black\"> string methods.</mark>\n"
      ]
    },
    {
      "cell_type": "code",
      "execution_count": null,
      "metadata": {
        "id": "qDdeQfbxZPc_"
      },
      "outputs": [],
      "source": [
        "cname = \"Python Programming\"\n",
        "\n",
        "print (cname)\n",
        "print (cname[:6])\n",
        "print (cname[:-11])\n",
        "print (cname[:-1])\n",
        "\n",
        "\n",
        "print (cname.split(\" \"))\n",
        "print (cname.split()[0])\n",
        "print (cname.split()[1])"
      ]
    },
    {
      "cell_type": "markdown",
      "metadata": {
        "id": "lUUfHazpZPc_"
      },
      "source": [
        "### String Methods Examples\n"
      ]
    },
    {
      "cell_type": "code",
      "execution_count": null,
      "metadata": {
        "id": "MCPSLO-AZPdA"
      },
      "outputs": [],
      "source": [
        "string1 = 'Python Programming Livermore'\n",
        "substring = 'py'\n",
        "\n",
        "city = 'Livermore'\n",
        "cnt = string1.count(city)\n",
        "print ('Number of {1} occurrence {0}'.format(cnt, city))\n",
        "print (f'Number of {cnt:10} occurrence {city:10}')\n",
        "\n",
        "idx = string1.find('Livermore')\n",
        "print ('Index of Livermore', idx)\n",
        "idx = string1.find('Livermore', 8)\n",
        "print ('Index of Livermore', idx)\n",
        "\n",
        "print (string1[idx:idx+len(city)])\n"
      ]
    },
    {
      "cell_type": "code",
      "execution_count": null,
      "metadata": {
        "id": "hFCOkVcAZPdA"
      },
      "outputs": [],
      "source": [
        "\n",
        "languages = 'Python, Java, C++, Ruby, Rail, Java Script, PHP, Go, Gotlin'\n",
        "list_languages = languages.split(',')\n",
        "\n",
        "print (list_languages)\n",
        "print (list_languages[0])\n"
      ]
    },
    {
      "cell_type": "markdown",
      "metadata": {
        "id": "V-jkfPYjZPdA"
      },
      "source": [
        "#### strip() methods"
      ]
    },
    {
      "cell_type": "code",
      "execution_count": null,
      "metadata": {
        "id": "bNPJwWwxZPdA"
      },
      "outputs": [],
      "source": [
        "strval = 'Python Programming    '\n",
        "## strval has the additional spaces after values\n",
        "\n",
        "strval = strval.strip() # now, the spaces after string value have been stripped\n",
        "strval"
      ]
    },
    {
      "cell_type": "code",
      "execution_count": null,
      "metadata": {
        "id": "En98tvSOZPdA"
      },
      "outputs": [],
      "source": [
        "\n",
        "## rstrip\n",
        "\n",
        "blank_padded_str = \"    Python   \"\n",
        "print (blank_padded_str)\n",
        "rstripped_str = blank_padded_str.rstrip(' ')\n",
        "print (rstripped_str)\n",
        "\n",
        "lstripped_str = blank_padded_str.lstrip(' ')\n",
        "print (lstripped_str)\n",
        "\n",
        "garbage_padded = '   Pyhton_+$?....'\n",
        "rstripped_str = garbage_padded.rstrip('_+?.')\n"
      ]
    },
    {
      "cell_type": "markdown",
      "metadata": {
        "id": "cIC7p8rbZPdA"
      },
      "source": [
        "## isalnum, isalpha, isdigit, isnumeric"
      ]
    },
    {
      "cell_type": "code",
      "execution_count": null,
      "metadata": {
        "id": "eBmJpYvWZPdA"
      },
      "outputs": [],
      "source": [
        "\n",
        "val1 = 'Python'\n",
        "print (val1.isalpha())\n",
        "val1 = 'Python3'\n",
        "print (val1.isalpha())\n",
        "\n",
        "\n",
        "val2 = '94543'\n",
        "print (val2.isnumeric())\n",
        "print (val2.isdigit())\n",
        "print (val2.isdecimal())\n",
        "\n"
      ]
    },
    {
      "cell_type": "code",
      "execution_count": null,
      "metadata": {
        "id": "K_yXCA3CZPdA"
      },
      "outputs": [],
      "source": [
        "original_str = input('Enter your string')\n",
        "word_str = input('Enter the serach keyword')\n",
        "\n",
        "idx = original_str.find(word_str)\n",
        "print (original_str[idx: idx+len(word_str)])\n",
        "\n"
      ]
    },
    {
      "cell_type": "markdown",
      "metadata": {
        "id": "UuXLkLLkZPdA"
      },
      "source": [
        "## split()"
      ]
    },
    {
      "cell_type": "code",
      "execution_count": null,
      "metadata": {
        "id": "IfgahtbCZPdA"
      },
      "outputs": [],
      "source": [
        "strval = \"Python Java PHP C++ R SQL\"\n",
        "strval.split()"
      ]
    },
    {
      "cell_type": "code",
      "execution_count": null,
      "metadata": {
        "id": "G8xElMiKZPdA"
      },
      "outputs": [],
      "source": [
        "strval = \"Python Java PHP C++ R SQL\"\n",
        "strval = strval.split()\n",
        "print (strval)"
      ]
    },
    {
      "cell_type": "markdown",
      "metadata": {
        "id": "jKb-Pws3ZPdB"
      },
      "source": [
        "#### <p style=\"font-family: Arial; font-size:1.4em; background-color: yellow; color:black;\"> Problem #5.2 </p>\n",
        "> <p> 1. Print the first name from the given names using the indices  </p>"
      ]
    },
    {
      "cell_type": "code",
      "execution_count": null,
      "metadata": {
        "id": "73yTrcXhZPdB",
        "outputId": "8bba3fa3-f769-453b-d572-2ad731618557"
      },
      "outputs": [
        {
          "data": {
            "text/plain": [
              "'John'"
            ]
          },
          "execution_count": 28,
          "metadata": {},
          "output_type": "execute_result"
        }
      ],
      "source": [
        "name = \"John Doe\"\n",
        "fname = name[:4]\n",
        "fname"
      ]
    },
    {
      "cell_type": "markdown",
      "metadata": {
        "id": "MLtWGSx_ZPdB"
      },
      "source": [
        "> 2. Print the last name from the given name using the indices"
      ]
    },
    {
      "cell_type": "code",
      "execution_count": null,
      "metadata": {
        "id": "mPKpisl1ZPdB"
      },
      "outputs": [],
      "source": [
        "lname = # complete this code"
      ]
    },
    {
      "cell_type": "markdown",
      "metadata": {
        "id": "9kJQkseDZPdB"
      },
      "source": [
        "> 3. Create a new variable that holds the last and first name, like \"Doe John\""
      ]
    },
    {
      "cell_type": "code",
      "execution_count": null,
      "metadata": {
        "id": "dArtkmuhZPdB"
      },
      "outputs": [],
      "source": [
        "new_name = # complete the code"
      ]
    },
    {
      "cell_type": "markdown",
      "metadata": {
        "id": "2S31fSyFZPdB"
      },
      "source": [
        "#### <p style=\"font-family: Arial; font-size:1.4em; background-color: yellow; color:black;\"> Problem #5.3 </p>\n",
        "> <p> 1. Find the index of first space in the name </p>"
      ]
    },
    {
      "cell_type": "code",
      "execution_count": null,
      "metadata": {
        "id": "NJqh7NeZZPdB"
      },
      "outputs": [],
      "source": [
        "name = 'Jane Doe'\n",
        "found_index = name.find(' ')\n",
        "found_index"
      ]
    },
    {
      "cell_type": "markdown",
      "metadata": {
        "id": "LHxlRhJ5ZPdB"
      },
      "source": [
        "> <p> 2. Find the index of the symbol '@' in the email string </p>"
      ]
    },
    {
      "cell_type": "code",
      "execution_count": null,
      "metadata": {
        "id": "VIWlZgVzZPdB"
      },
      "outputs": [],
      "source": [
        "email_str = 'John@company.com'\n",
        "idx = # complete the code"
      ]
    },
    {
      "cell_type": "markdown",
      "metadata": {
        "id": "IC0uHF04ZPdB"
      },
      "source": [
        "> <p> 3. Find the 2nd index of the symbol '.' in the email string </p>"
      ]
    },
    {
      "cell_type": "code",
      "execution_count": null,
      "metadata": {
        "id": "P2IQrcKVZPdC"
      },
      "outputs": [],
      "source": [
        "email_str = 'noreply@database.company.edu'\n",
        "idx_dot = # complete the code"
      ]
    },
    {
      "cell_type": "markdown",
      "metadata": {
        "id": "L1VZVMqWZPdC"
      },
      "source": [
        "> <p> 4. Does the email ID '2myemail' start with alphabet ? </p>\n",
        "- Use the method <mark> isalpha() </mark>"
      ]
    },
    {
      "cell_type": "code",
      "execution_count": null,
      "metadata": {
        "id": "IydX-RL0ZPdC"
      },
      "outputs": [],
      "source": [
        "email_id = '2myemail'\n",
        "result = email_id[0].isalpha()\n",
        "print (result)"
      ]
    },
    {
      "cell_type": "markdown",
      "metadata": {
        "id": "eZjl7TidZPdC"
      },
      "source": [
        "> <p> 5. Does the email ID 'myemail.1234' include non-alphabet letters ? </p>\n",
        "- Use the method <mark> isalpha() </mark>"
      ]
    },
    {
      "cell_type": "code",
      "execution_count": null,
      "metadata": {
        "id": "JoUesGVmZPdC"
      },
      "outputs": [],
      "source": [
        "email_id = 'myemail.1234'\n",
        "result = # complete this code"
      ]
    },
    {
      "cell_type": "markdown",
      "metadata": {
        "id": "BKg5dlyNZPdC"
      },
      "source": [
        "> <p> 6. Does the email ID 'myemail.1234' end with the digit? </p>\n",
        "- Use the method <mark> isalpha() </mark>"
      ]
    },
    {
      "cell_type": "code",
      "execution_count": null,
      "metadata": {
        "id": "xw2nCSXCZPdC"
      },
      "outputs": [],
      "source": [
        "email_id = 'myeamil.1234'\n",
        "result = # complete this code"
      ]
    },
    {
      "cell_type": "markdown",
      "metadata": {
        "id": "FBuU802hZPdC"
      },
      "source": [
        "#### <p style=\"font-family: Arial; font-size:1.4em; background-color: yellow; color:black;\"> Problem #5.4 </p>"
      ]
    },
    {
      "cell_type": "markdown",
      "metadata": {
        "id": "LBxl-csqZPdC"
      },
      "source": [
        "> <p> 1. Split this word 'Python C++ HTML PHP JAVA\" by the space\n",
        "- Use the method <mark> split() </mark>"
      ]
    },
    {
      "cell_type": "code",
      "execution_count": null,
      "metadata": {
        "id": "uJDcVbavZPdC"
      },
      "outputs": [],
      "source": [
        "original_str = 'Python C++ HTML PHP JAVA'\n",
        "split_str = original_str.split()\n",
        "print (split_str)"
      ]
    },
    {
      "cell_type": "markdown",
      "metadata": {
        "id": "LRFamSdoZPdC"
      },
      "source": [
        "> <p> 2. Split the word 'John/Jane/Doe/Smith/Tom' by the '/'\n",
        "- Use the method <mark> split() </mark>"
      ]
    },
    {
      "cell_type": "code",
      "execution_count": null,
      "metadata": {
        "id": "qK3CzMFLZPdC"
      },
      "outputs": [],
      "source": [
        "original_str = 'John/Jane/Doe/Smith/Tom'\n",
        "split_str =  # complete the code\n",
        "split_str"
      ]
    },
    {
      "cell_type": "markdown",
      "metadata": {
        "id": "4HfNGEkXZPdC"
      },
      "source": [
        "> <p> 3. Merge the string 'first', 'second' and 'third' with the space between each word\n",
        "- Use the operator <mark> + </mark>"
      ]
    },
    {
      "cell_type": "code",
      "execution_count": null,
      "metadata": {
        "id": "tZFii87kZPdC"
      },
      "outputs": [],
      "source": [
        "str1 = 'first'\n",
        "str2 = 'second'\n",
        "str3 = 'third'\n",
        "merged_str = # complete the code\n",
        "merged_str\n",
        "# It must print 'first second third'"
      ]
    },
    {
      "cell_type": "markdown",
      "metadata": {
        "id": "LOQZiDIWZPdD"
      },
      "source": [
        "## 👉 Please save<font color='red'> **(ctrl-s or cmd-s)** </font> your file to make a checkpoint."
      ]
    }
  ],
  "metadata": {
    "kernelspec": {
      "display_name": "base",
      "language": "python",
      "name": "python3"
    },
    "language_info": {
      "codemirror_mode": {
        "name": "ipython",
        "version": 3
      },
      "file_extension": ".py",
      "mimetype": "text/x-python",
      "name": "python",
      "nbconvert_exporter": "python",
      "pygments_lexer": "ipython3",
      "version": "3.9.17"
    },
    "orig_nbformat": 4,
    "vscode": {
      "interpreter": {
        "hash": "32cd87c0c55905266dc8232ebf1148f668af0d9324249c125246585210a29cd6"
      }
    },
    "colab": {
      "provenance": [],
      "include_colab_link": true
    }
  },
  "nbformat": 4,
  "nbformat_minor": 0
}